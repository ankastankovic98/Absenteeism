{
 "cells": [
  {
   "cell_type": "markdown",
   "id": "7d251c09-ea33-4016-8930-2d743cd7008d",
   "metadata": {},
   "source": [
    "### Data preprocessing:"
   ]
  },
  {
   "cell_type": "code",
   "execution_count": 153,
   "id": "062c4e1d-65f2-4e08-b467-cd0d76a423a6",
   "metadata": {},
   "outputs": [],
   "source": [
    "import pandas as pd"
   ]
  },
  {
   "cell_type": "code",
   "execution_count": 154,
   "id": "0cfcdb91-6825-4295-843c-f331015a08ed",
   "metadata": {},
   "outputs": [],
   "source": [
    "raw_data = pd.read_csv('Absenteeism-data.csv')"
   ]
  },
  {
   "cell_type": "code",
   "execution_count": 155,
   "id": "0711f52a-885a-4a22-91d2-10713a165ae1",
   "metadata": {},
   "outputs": [
    {
     "data": {
      "text/html": [
       "<div>\n",
       "<style scoped>\n",
       "    .dataframe tbody tr th:only-of-type {\n",
       "        vertical-align: middle;\n",
       "    }\n",
       "\n",
       "    .dataframe tbody tr th {\n",
       "        vertical-align: top;\n",
       "    }\n",
       "\n",
       "    .dataframe thead th {\n",
       "        text-align: right;\n",
       "    }\n",
       "</style>\n",
       "<table border=\"1\" class=\"dataframe\">\n",
       "  <thead>\n",
       "    <tr style=\"text-align: right;\">\n",
       "      <th></th>\n",
       "      <th>ID</th>\n",
       "      <th>Reason for Absence</th>\n",
       "      <th>Date</th>\n",
       "      <th>Transportation Expense</th>\n",
       "      <th>Distance to Work</th>\n",
       "      <th>Age</th>\n",
       "      <th>Daily Work Load Average</th>\n",
       "      <th>Body Mass Index</th>\n",
       "      <th>Education</th>\n",
       "      <th>Children</th>\n",
       "      <th>Pets</th>\n",
       "      <th>Absenteeism Time in Hours</th>\n",
       "    </tr>\n",
       "  </thead>\n",
       "  <tbody>\n",
       "    <tr>\n",
       "      <th>0</th>\n",
       "      <td>11</td>\n",
       "      <td>26</td>\n",
       "      <td>07/07/2015</td>\n",
       "      <td>289</td>\n",
       "      <td>36</td>\n",
       "      <td>33</td>\n",
       "      <td>239.554</td>\n",
       "      <td>30</td>\n",
       "      <td>1</td>\n",
       "      <td>2</td>\n",
       "      <td>1</td>\n",
       "      <td>4</td>\n",
       "    </tr>\n",
       "    <tr>\n",
       "      <th>1</th>\n",
       "      <td>36</td>\n",
       "      <td>0</td>\n",
       "      <td>14/07/2015</td>\n",
       "      <td>118</td>\n",
       "      <td>13</td>\n",
       "      <td>50</td>\n",
       "      <td>239.554</td>\n",
       "      <td>31</td>\n",
       "      <td>1</td>\n",
       "      <td>1</td>\n",
       "      <td>0</td>\n",
       "      <td>0</td>\n",
       "    </tr>\n",
       "    <tr>\n",
       "      <th>2</th>\n",
       "      <td>3</td>\n",
       "      <td>23</td>\n",
       "      <td>15/07/2015</td>\n",
       "      <td>179</td>\n",
       "      <td>51</td>\n",
       "      <td>38</td>\n",
       "      <td>239.554</td>\n",
       "      <td>31</td>\n",
       "      <td>1</td>\n",
       "      <td>0</td>\n",
       "      <td>0</td>\n",
       "      <td>2</td>\n",
       "    </tr>\n",
       "    <tr>\n",
       "      <th>3</th>\n",
       "      <td>7</td>\n",
       "      <td>7</td>\n",
       "      <td>16/07/2015</td>\n",
       "      <td>279</td>\n",
       "      <td>5</td>\n",
       "      <td>39</td>\n",
       "      <td>239.554</td>\n",
       "      <td>24</td>\n",
       "      <td>1</td>\n",
       "      <td>2</td>\n",
       "      <td>0</td>\n",
       "      <td>4</td>\n",
       "    </tr>\n",
       "    <tr>\n",
       "      <th>4</th>\n",
       "      <td>11</td>\n",
       "      <td>23</td>\n",
       "      <td>23/07/2015</td>\n",
       "      <td>289</td>\n",
       "      <td>36</td>\n",
       "      <td>33</td>\n",
       "      <td>239.554</td>\n",
       "      <td>30</td>\n",
       "      <td>1</td>\n",
       "      <td>2</td>\n",
       "      <td>1</td>\n",
       "      <td>2</td>\n",
       "    </tr>\n",
       "  </tbody>\n",
       "</table>\n",
       "</div>"
      ],
      "text/plain": [
       "   ID  Reason for Absence        Date  Transportation Expense  \\\n",
       "0  11                  26  07/07/2015                     289   \n",
       "1  36                   0  14/07/2015                     118   \n",
       "2   3                  23  15/07/2015                     179   \n",
       "3   7                   7  16/07/2015                     279   \n",
       "4  11                  23  23/07/2015                     289   \n",
       "\n",
       "   Distance to Work  Age  Daily Work Load Average  Body Mass Index  Education  \\\n",
       "0                36   33                  239.554               30          1   \n",
       "1                13   50                  239.554               31          1   \n",
       "2                51   38                  239.554               31          1   \n",
       "3                 5   39                  239.554               24          1   \n",
       "4                36   33                  239.554               30          1   \n",
       "\n",
       "   Children  Pets  Absenteeism Time in Hours  \n",
       "0         2     1                          4  \n",
       "1         1     0                          0  \n",
       "2         0     0                          2  \n",
       "3         2     0                          4  \n",
       "4         2     1                          2  "
      ]
     },
     "execution_count": 155,
     "metadata": {},
     "output_type": "execute_result"
    }
   ],
   "source": [
    "raw_data.head()"
   ]
  },
  {
   "cell_type": "code",
   "execution_count": 156,
   "id": "573fc32b-f71c-456c-bfb9-1d1c87444a63",
   "metadata": {},
   "outputs": [],
   "source": [
    "df = raw_data.copy()"
   ]
  },
  {
   "cell_type": "code",
   "execution_count": 157,
   "id": "dd1fc4c5-b209-4244-b7f9-57cfa242c26f",
   "metadata": {},
   "outputs": [],
   "source": [
    "pd.options.display.max_columns = None\n",
    "pd.options.display.max_rows = None"
   ]
  },
  {
   "cell_type": "code",
   "execution_count": 158,
   "id": "5685cbe8-a912-4acd-875c-1b3efe31e254",
   "metadata": {},
   "outputs": [
    {
     "name": "stdout",
     "output_type": "stream",
     "text": [
      "<class 'pandas.core.frame.DataFrame'>\n",
      "RangeIndex: 700 entries, 0 to 699\n",
      "Data columns (total 12 columns):\n",
      " #   Column                     Non-Null Count  Dtype  \n",
      "---  ------                     --------------  -----  \n",
      " 0   ID                         700 non-null    int64  \n",
      " 1   Reason for Absence         700 non-null    int64  \n",
      " 2   Date                       700 non-null    object \n",
      " 3   Transportation Expense     700 non-null    int64  \n",
      " 4   Distance to Work           700 non-null    int64  \n",
      " 5   Age                        700 non-null    int64  \n",
      " 6   Daily Work Load Average    700 non-null    float64\n",
      " 7   Body Mass Index            700 non-null    int64  \n",
      " 8   Education                  700 non-null    int64  \n",
      " 9   Children                   700 non-null    int64  \n",
      " 10  Pets                       700 non-null    int64  \n",
      " 11  Absenteeism Time in Hours  700 non-null    int64  \n",
      "dtypes: float64(1), int64(10), object(1)\n",
      "memory usage: 65.8+ KB\n"
     ]
    }
   ],
   "source": [
    "df.info()"
   ]
  },
  {
   "cell_type": "markdown",
   "id": "678f4062-2ec0-4c9f-93e1-82a6b4625c92",
   "metadata": {},
   "source": [
    "### Drop 'ID':"
   ]
  },
  {
   "cell_type": "code",
   "execution_count": 160,
   "id": "1c1d49f3-9ac4-4b4a-8c09-8332d804076d",
   "metadata": {},
   "outputs": [],
   "source": [
    "df = df.drop(['ID'], axis = 1)"
   ]
  },
  {
   "cell_type": "code",
   "execution_count": 161,
   "id": "b2c856e4-83e6-475d-9514-be804a5ad9c9",
   "metadata": {},
   "outputs": [
    {
     "data": {
      "text/html": [
       "<div>\n",
       "<style scoped>\n",
       "    .dataframe tbody tr th:only-of-type {\n",
       "        vertical-align: middle;\n",
       "    }\n",
       "\n",
       "    .dataframe tbody tr th {\n",
       "        vertical-align: top;\n",
       "    }\n",
       "\n",
       "    .dataframe thead th {\n",
       "        text-align: right;\n",
       "    }\n",
       "</style>\n",
       "<table border=\"1\" class=\"dataframe\">\n",
       "  <thead>\n",
       "    <tr style=\"text-align: right;\">\n",
       "      <th></th>\n",
       "      <th>Reason for Absence</th>\n",
       "      <th>Date</th>\n",
       "      <th>Transportation Expense</th>\n",
       "      <th>Distance to Work</th>\n",
       "      <th>Age</th>\n",
       "      <th>Daily Work Load Average</th>\n",
       "      <th>Body Mass Index</th>\n",
       "      <th>Education</th>\n",
       "      <th>Children</th>\n",
       "      <th>Pets</th>\n",
       "      <th>Absenteeism Time in Hours</th>\n",
       "    </tr>\n",
       "  </thead>\n",
       "  <tbody>\n",
       "    <tr>\n",
       "      <th>0</th>\n",
       "      <td>26</td>\n",
       "      <td>07/07/2015</td>\n",
       "      <td>289</td>\n",
       "      <td>36</td>\n",
       "      <td>33</td>\n",
       "      <td>239.554</td>\n",
       "      <td>30</td>\n",
       "      <td>1</td>\n",
       "      <td>2</td>\n",
       "      <td>1</td>\n",
       "      <td>4</td>\n",
       "    </tr>\n",
       "    <tr>\n",
       "      <th>1</th>\n",
       "      <td>0</td>\n",
       "      <td>14/07/2015</td>\n",
       "      <td>118</td>\n",
       "      <td>13</td>\n",
       "      <td>50</td>\n",
       "      <td>239.554</td>\n",
       "      <td>31</td>\n",
       "      <td>1</td>\n",
       "      <td>1</td>\n",
       "      <td>0</td>\n",
       "      <td>0</td>\n",
       "    </tr>\n",
       "    <tr>\n",
       "      <th>2</th>\n",
       "      <td>23</td>\n",
       "      <td>15/07/2015</td>\n",
       "      <td>179</td>\n",
       "      <td>51</td>\n",
       "      <td>38</td>\n",
       "      <td>239.554</td>\n",
       "      <td>31</td>\n",
       "      <td>1</td>\n",
       "      <td>0</td>\n",
       "      <td>0</td>\n",
       "      <td>2</td>\n",
       "    </tr>\n",
       "    <tr>\n",
       "      <th>3</th>\n",
       "      <td>7</td>\n",
       "      <td>16/07/2015</td>\n",
       "      <td>279</td>\n",
       "      <td>5</td>\n",
       "      <td>39</td>\n",
       "      <td>239.554</td>\n",
       "      <td>24</td>\n",
       "      <td>1</td>\n",
       "      <td>2</td>\n",
       "      <td>0</td>\n",
       "      <td>4</td>\n",
       "    </tr>\n",
       "    <tr>\n",
       "      <th>4</th>\n",
       "      <td>23</td>\n",
       "      <td>23/07/2015</td>\n",
       "      <td>289</td>\n",
       "      <td>36</td>\n",
       "      <td>33</td>\n",
       "      <td>239.554</td>\n",
       "      <td>30</td>\n",
       "      <td>1</td>\n",
       "      <td>2</td>\n",
       "      <td>1</td>\n",
       "      <td>2</td>\n",
       "    </tr>\n",
       "  </tbody>\n",
       "</table>\n",
       "</div>"
      ],
      "text/plain": [
       "   Reason for Absence        Date  Transportation Expense  Distance to Work  \\\n",
       "0                  26  07/07/2015                     289                36   \n",
       "1                   0  14/07/2015                     118                13   \n",
       "2                  23  15/07/2015                     179                51   \n",
       "3                   7  16/07/2015                     279                 5   \n",
       "4                  23  23/07/2015                     289                36   \n",
       "\n",
       "   Age  Daily Work Load Average  Body Mass Index  Education  Children  Pets  \\\n",
       "0   33                  239.554               30          1         2     1   \n",
       "1   50                  239.554               31          1         1     0   \n",
       "2   38                  239.554               31          1         0     0   \n",
       "3   39                  239.554               24          1         2     0   \n",
       "4   33                  239.554               30          1         2     1   \n",
       "\n",
       "   Absenteeism Time in Hours  \n",
       "0                          4  \n",
       "1                          0  \n",
       "2                          2  \n",
       "3                          4  \n",
       "4                          2  "
      ]
     },
     "execution_count": 161,
     "metadata": {},
     "output_type": "execute_result"
    }
   ],
   "source": [
    "df.head()"
   ]
  },
  {
   "cell_type": "markdown",
   "id": "b7c24497-bce2-47bf-95c8-108a996925ee",
   "metadata": {},
   "source": [
    "### 'Reason for Absence':"
   ]
  },
  {
   "cell_type": "code",
   "execution_count": 163,
   "id": "190b6df4-3bc6-4b23-b46a-f62a1e9853ce",
   "metadata": {},
   "outputs": [
    {
     "data": {
      "text/plain": [
       "0"
      ]
     },
     "execution_count": 163,
     "metadata": {},
     "output_type": "execute_result"
    }
   ],
   "source": [
    "df['Reason for Absence'].min()"
   ]
  },
  {
   "cell_type": "code",
   "execution_count": 164,
   "id": "63678b4b-0470-4804-87a0-18f2ee79b0c5",
   "metadata": {},
   "outputs": [
    {
     "data": {
      "text/plain": [
       "28"
      ]
     },
     "execution_count": 164,
     "metadata": {},
     "output_type": "execute_result"
    }
   ],
   "source": [
    "df['Reason for Absence'].max()"
   ]
  },
  {
   "cell_type": "code",
   "execution_count": 165,
   "id": "b9501af2-1557-48bd-bc6c-9098e3541661",
   "metadata": {},
   "outputs": [
    {
     "data": {
      "text/plain": [
       "array([26,  0, 23,  7, 22, 19,  1, 11, 14, 21, 10, 13, 28, 18, 25, 24,  6,\n",
       "       27, 17,  8, 12,  5,  9, 15,  4,  3,  2, 16], dtype=int64)"
      ]
     },
     "execution_count": 165,
     "metadata": {},
     "output_type": "execute_result"
    }
   ],
   "source": [
    "pd.unique(df['Reason for Absence'])"
   ]
  },
  {
   "cell_type": "code",
   "execution_count": 166,
   "id": "e1185fdf-7dc1-4fce-9174-d35c9b51e738",
   "metadata": {},
   "outputs": [
    {
     "data": {
      "text/plain": [
       "28"
      ]
     },
     "execution_count": 166,
     "metadata": {},
     "output_type": "execute_result"
    }
   ],
   "source": [
    "len(df['Reason for Absence'].unique())"
   ]
  },
  {
   "cell_type": "code",
   "execution_count": 167,
   "id": "ceded1ba-100c-48f8-866b-dfc106f9e720",
   "metadata": {},
   "outputs": [
    {
     "data": {
      "text/plain": [
       "[0,\n",
       " 1,\n",
       " 2,\n",
       " 3,\n",
       " 4,\n",
       " 5,\n",
       " 6,\n",
       " 7,\n",
       " 8,\n",
       " 9,\n",
       " 10,\n",
       " 11,\n",
       " 12,\n",
       " 13,\n",
       " 14,\n",
       " 15,\n",
       " 16,\n",
       " 17,\n",
       " 18,\n",
       " 19,\n",
       " 21,\n",
       " 22,\n",
       " 23,\n",
       " 24,\n",
       " 25,\n",
       " 26,\n",
       " 27,\n",
       " 28]"
      ]
     },
     "execution_count": 167,
     "metadata": {},
     "output_type": "execute_result"
    }
   ],
   "source": [
    "sorted(df['Reason for Absence'].unique())"
   ]
  },
  {
   "cell_type": "code",
   "execution_count": 168,
   "id": "35502980-40ee-4246-82a2-f8e49ae9cf47",
   "metadata": {},
   "outputs": [],
   "source": [
    "reasons_columns = pd.get_dummies(df['Reason for Absence'])"
   ]
  },
  {
   "cell_type": "code",
   "execution_count": 169,
   "id": "a218b04c-3ac9-488f-8916-7a7847544ecd",
   "metadata": {},
   "outputs": [],
   "source": [
    "#reasons_columns"
   ]
  },
  {
   "cell_type": "code",
   "execution_count": 170,
   "id": "38bc73ff-94b5-497c-8d10-322e82f6a6c2",
   "metadata": {},
   "outputs": [
    {
     "data": {
      "text/plain": [
       "700"
      ]
     },
     "execution_count": 170,
     "metadata": {},
     "output_type": "execute_result"
    }
   ],
   "source": [
    "reasons_columns['check'] = reasons_columns.sum(axis=1)\n",
    "reasons_columns['check'].sum()"
   ]
  },
  {
   "cell_type": "code",
   "execution_count": 171,
   "id": "c670579b-8371-451a-aaff-b844fb93d930",
   "metadata": {},
   "outputs": [
    {
     "data": {
      "text/plain": [
       "array([1], dtype=int64)"
      ]
     },
     "execution_count": 171,
     "metadata": {},
     "output_type": "execute_result"
    }
   ],
   "source": [
    "reasons_columns['check'].unique()"
   ]
  },
  {
   "cell_type": "code",
   "execution_count": 172,
   "id": "b7918813-6026-4270-a78f-be3505aff389",
   "metadata": {},
   "outputs": [],
   "source": [
    "reasons_columns = reasons_columns.drop(['check'], axis = 1)"
   ]
  },
  {
   "cell_type": "code",
   "execution_count": 173,
   "id": "96408258-4973-4200-849c-68dbf898a748",
   "metadata": {},
   "outputs": [],
   "source": [
    "reasons_columns = pd.get_dummies(df['Reason for Absence'], drop_first=True, dtype=int)"
   ]
  },
  {
   "cell_type": "code",
   "execution_count": 174,
   "id": "accb4b5c-00b5-4cdd-b4df-25a74b48f2f1",
   "metadata": {},
   "outputs": [],
   "source": [
    "#reasons_columns"
   ]
  },
  {
   "cell_type": "markdown",
   "id": "9029735b-1079-4b56-8ca4-67daf0227603",
   "metadata": {},
   "source": [
    "**Group the reasons for absence:**"
   ]
  },
  {
   "cell_type": "code",
   "execution_count": 176,
   "id": "470325ef-ceab-49cb-9645-47c4fcf3e5c7",
   "metadata": {},
   "outputs": [
    {
     "data": {
      "text/plain": [
       "array(['Reason for Absence', 'Date', 'Transportation Expense',\n",
       "       'Distance to Work', 'Age', 'Daily Work Load Average',\n",
       "       'Body Mass Index', 'Education', 'Children', 'Pets',\n",
       "       'Absenteeism Time in Hours'], dtype=object)"
      ]
     },
     "execution_count": 176,
     "metadata": {},
     "output_type": "execute_result"
    }
   ],
   "source": [
    "df.columns.values"
   ]
  },
  {
   "cell_type": "code",
   "execution_count": 177,
   "id": "90888330-d962-4f41-802b-36fc521f7c46",
   "metadata": {},
   "outputs": [
    {
     "data": {
      "text/plain": [
       "array([ 1,  2,  3,  4,  5,  6,  7,  8,  9, 10, 11, 12, 13, 14, 15, 16, 17,\n",
       "       18, 19, 21, 22, 23, 24, 25, 26, 27, 28], dtype=int64)"
      ]
     },
     "execution_count": 177,
     "metadata": {},
     "output_type": "execute_result"
    }
   ],
   "source": [
    "reasons_columns.columns.values"
   ]
  },
  {
   "cell_type": "code",
   "execution_count": 178,
   "id": "1e39a5ed-453d-4f8a-9aa5-68492bebdb7f",
   "metadata": {},
   "outputs": [],
   "source": [
    "df = df.drop(['Reason for Absence'], axis=1)"
   ]
  },
  {
   "cell_type": "code",
   "execution_count": 179,
   "id": "ee4b4870-0028-4e91-8f94-a18c6963fc92",
   "metadata": {},
   "outputs": [
    {
     "data": {
      "text/html": [
       "<div>\n",
       "<style scoped>\n",
       "    .dataframe tbody tr th:only-of-type {\n",
       "        vertical-align: middle;\n",
       "    }\n",
       "\n",
       "    .dataframe tbody tr th {\n",
       "        vertical-align: top;\n",
       "    }\n",
       "\n",
       "    .dataframe thead th {\n",
       "        text-align: right;\n",
       "    }\n",
       "</style>\n",
       "<table border=\"1\" class=\"dataframe\">\n",
       "  <thead>\n",
       "    <tr style=\"text-align: right;\">\n",
       "      <th></th>\n",
       "      <th>Date</th>\n",
       "      <th>Transportation Expense</th>\n",
       "      <th>Distance to Work</th>\n",
       "      <th>Age</th>\n",
       "      <th>Daily Work Load Average</th>\n",
       "      <th>Body Mass Index</th>\n",
       "      <th>Education</th>\n",
       "      <th>Children</th>\n",
       "      <th>Pets</th>\n",
       "      <th>Absenteeism Time in Hours</th>\n",
       "    </tr>\n",
       "  </thead>\n",
       "  <tbody>\n",
       "    <tr>\n",
       "      <th>0</th>\n",
       "      <td>07/07/2015</td>\n",
       "      <td>289</td>\n",
       "      <td>36</td>\n",
       "      <td>33</td>\n",
       "      <td>239.554</td>\n",
       "      <td>30</td>\n",
       "      <td>1</td>\n",
       "      <td>2</td>\n",
       "      <td>1</td>\n",
       "      <td>4</td>\n",
       "    </tr>\n",
       "    <tr>\n",
       "      <th>1</th>\n",
       "      <td>14/07/2015</td>\n",
       "      <td>118</td>\n",
       "      <td>13</td>\n",
       "      <td>50</td>\n",
       "      <td>239.554</td>\n",
       "      <td>31</td>\n",
       "      <td>1</td>\n",
       "      <td>1</td>\n",
       "      <td>0</td>\n",
       "      <td>0</td>\n",
       "    </tr>\n",
       "    <tr>\n",
       "      <th>2</th>\n",
       "      <td>15/07/2015</td>\n",
       "      <td>179</td>\n",
       "      <td>51</td>\n",
       "      <td>38</td>\n",
       "      <td>239.554</td>\n",
       "      <td>31</td>\n",
       "      <td>1</td>\n",
       "      <td>0</td>\n",
       "      <td>0</td>\n",
       "      <td>2</td>\n",
       "    </tr>\n",
       "    <tr>\n",
       "      <th>3</th>\n",
       "      <td>16/07/2015</td>\n",
       "      <td>279</td>\n",
       "      <td>5</td>\n",
       "      <td>39</td>\n",
       "      <td>239.554</td>\n",
       "      <td>24</td>\n",
       "      <td>1</td>\n",
       "      <td>2</td>\n",
       "      <td>0</td>\n",
       "      <td>4</td>\n",
       "    </tr>\n",
       "    <tr>\n",
       "      <th>4</th>\n",
       "      <td>23/07/2015</td>\n",
       "      <td>289</td>\n",
       "      <td>36</td>\n",
       "      <td>33</td>\n",
       "      <td>239.554</td>\n",
       "      <td>30</td>\n",
       "      <td>1</td>\n",
       "      <td>2</td>\n",
       "      <td>1</td>\n",
       "      <td>2</td>\n",
       "    </tr>\n",
       "  </tbody>\n",
       "</table>\n",
       "</div>"
      ],
      "text/plain": [
       "         Date  Transportation Expense  Distance to Work  Age  \\\n",
       "0  07/07/2015                     289                36   33   \n",
       "1  14/07/2015                     118                13   50   \n",
       "2  15/07/2015                     179                51   38   \n",
       "3  16/07/2015                     279                 5   39   \n",
       "4  23/07/2015                     289                36   33   \n",
       "\n",
       "   Daily Work Load Average  Body Mass Index  Education  Children  Pets  \\\n",
       "0                  239.554               30          1         2     1   \n",
       "1                  239.554               31          1         1     0   \n",
       "2                  239.554               31          1         0     0   \n",
       "3                  239.554               24          1         2     0   \n",
       "4                  239.554               30          1         2     1   \n",
       "\n",
       "   Absenteeism Time in Hours  \n",
       "0                          4  \n",
       "1                          0  \n",
       "2                          2  \n",
       "3                          4  \n",
       "4                          2  "
      ]
     },
     "execution_count": 179,
     "metadata": {},
     "output_type": "execute_result"
    }
   ],
   "source": [
    "df.head()"
   ]
  },
  {
   "cell_type": "code",
   "execution_count": 180,
   "id": "c0c0a059-5d4f-464f-b1f7-0da26f997cde",
   "metadata": {},
   "outputs": [],
   "source": [
    "reason_1 = reasons_columns.loc[:, 1:14].max(axis=1)\n",
    "reason_2 = reasons_columns.loc[:, 15:17].max(axis=1)\n",
    "reason_3 = reasons_columns.loc[:, 18:21].max(axis=1)\n",
    "reason_4 = reasons_columns.loc[:, 22:].max(axis=1)"
   ]
  },
  {
   "cell_type": "code",
   "execution_count": 181,
   "id": "8c405914-bff2-42b9-920c-c0b06b56dcdf",
   "metadata": {},
   "outputs": [],
   "source": [
    "#reason_2.sum()"
   ]
  },
  {
   "cell_type": "markdown",
   "id": "60b5033c-cdd2-467a-a89a-cef27050d8ad",
   "metadata": {},
   "source": [
    "**Concatenate and reorder columns:**"
   ]
  },
  {
   "cell_type": "code",
   "execution_count": 183,
   "id": "0d0921cc-32a6-4cef-84c3-f786847482be",
   "metadata": {},
   "outputs": [],
   "source": [
    "df = pd.concat([df, reason_1, reason_2, reason_3, reason_4], axis=1)"
   ]
  },
  {
   "cell_type": "code",
   "execution_count": 184,
   "id": "ce598176-26c1-4fbd-bde4-01968b08146b",
   "metadata": {},
   "outputs": [
    {
     "data": {
      "text/plain": [
       "array(['Date', 'Transportation Expense', 'Distance to Work', 'Age',\n",
       "       'Daily Work Load Average', 'Body Mass Index', 'Education',\n",
       "       'Children', 'Pets', 'Absenteeism Time in Hours', 0, 1, 2, 3],\n",
       "      dtype=object)"
      ]
     },
     "execution_count": 184,
     "metadata": {},
     "output_type": "execute_result"
    }
   ],
   "source": [
    "df.columns.values"
   ]
  },
  {
   "cell_type": "code",
   "execution_count": 185,
   "id": "e819587b-d701-4a4c-b738-68fdfb42ebc1",
   "metadata": {},
   "outputs": [],
   "source": [
    "column_names = ['Date', 'Transportation Expense', 'Distance to Work', 'Age', 'Daily Work Load Average',\n",
    "                'Body Mass Index', 'Education', 'Children', 'Pets', 'Absenteeism Time in Hours',\n",
    "                'Reason_1', 'Reason_2', 'Reason_3', 'Reason_4']"
   ]
  },
  {
   "cell_type": "code",
   "execution_count": 186,
   "id": "e4ac2f63-ca74-496a-935d-de7e41281b16",
   "metadata": {},
   "outputs": [],
   "source": [
    "df.columns = column_names"
   ]
  },
  {
   "cell_type": "code",
   "execution_count": 187,
   "id": "8b760de2-d2b6-4499-afd6-807b4bb65131",
   "metadata": {},
   "outputs": [
    {
     "data": {
      "text/html": [
       "<div>\n",
       "<style scoped>\n",
       "    .dataframe tbody tr th:only-of-type {\n",
       "        vertical-align: middle;\n",
       "    }\n",
       "\n",
       "    .dataframe tbody tr th {\n",
       "        vertical-align: top;\n",
       "    }\n",
       "\n",
       "    .dataframe thead th {\n",
       "        text-align: right;\n",
       "    }\n",
       "</style>\n",
       "<table border=\"1\" class=\"dataframe\">\n",
       "  <thead>\n",
       "    <tr style=\"text-align: right;\">\n",
       "      <th></th>\n",
       "      <th>Date</th>\n",
       "      <th>Transportation Expense</th>\n",
       "      <th>Distance to Work</th>\n",
       "      <th>Age</th>\n",
       "      <th>Daily Work Load Average</th>\n",
       "      <th>Body Mass Index</th>\n",
       "      <th>Education</th>\n",
       "      <th>Children</th>\n",
       "      <th>Pets</th>\n",
       "      <th>Absenteeism Time in Hours</th>\n",
       "      <th>Reason_1</th>\n",
       "      <th>Reason_2</th>\n",
       "      <th>Reason_3</th>\n",
       "      <th>Reason_4</th>\n",
       "    </tr>\n",
       "  </thead>\n",
       "  <tbody>\n",
       "    <tr>\n",
       "      <th>0</th>\n",
       "      <td>07/07/2015</td>\n",
       "      <td>289</td>\n",
       "      <td>36</td>\n",
       "      <td>33</td>\n",
       "      <td>239.554</td>\n",
       "      <td>30</td>\n",
       "      <td>1</td>\n",
       "      <td>2</td>\n",
       "      <td>1</td>\n",
       "      <td>4</td>\n",
       "      <td>0</td>\n",
       "      <td>0</td>\n",
       "      <td>0</td>\n",
       "      <td>1</td>\n",
       "    </tr>\n",
       "    <tr>\n",
       "      <th>1</th>\n",
       "      <td>14/07/2015</td>\n",
       "      <td>118</td>\n",
       "      <td>13</td>\n",
       "      <td>50</td>\n",
       "      <td>239.554</td>\n",
       "      <td>31</td>\n",
       "      <td>1</td>\n",
       "      <td>1</td>\n",
       "      <td>0</td>\n",
       "      <td>0</td>\n",
       "      <td>0</td>\n",
       "      <td>0</td>\n",
       "      <td>0</td>\n",
       "      <td>0</td>\n",
       "    </tr>\n",
       "    <tr>\n",
       "      <th>2</th>\n",
       "      <td>15/07/2015</td>\n",
       "      <td>179</td>\n",
       "      <td>51</td>\n",
       "      <td>38</td>\n",
       "      <td>239.554</td>\n",
       "      <td>31</td>\n",
       "      <td>1</td>\n",
       "      <td>0</td>\n",
       "      <td>0</td>\n",
       "      <td>2</td>\n",
       "      <td>0</td>\n",
       "      <td>0</td>\n",
       "      <td>0</td>\n",
       "      <td>1</td>\n",
       "    </tr>\n",
       "    <tr>\n",
       "      <th>3</th>\n",
       "      <td>16/07/2015</td>\n",
       "      <td>279</td>\n",
       "      <td>5</td>\n",
       "      <td>39</td>\n",
       "      <td>239.554</td>\n",
       "      <td>24</td>\n",
       "      <td>1</td>\n",
       "      <td>2</td>\n",
       "      <td>0</td>\n",
       "      <td>4</td>\n",
       "      <td>1</td>\n",
       "      <td>0</td>\n",
       "      <td>0</td>\n",
       "      <td>0</td>\n",
       "    </tr>\n",
       "    <tr>\n",
       "      <th>4</th>\n",
       "      <td>23/07/2015</td>\n",
       "      <td>289</td>\n",
       "      <td>36</td>\n",
       "      <td>33</td>\n",
       "      <td>239.554</td>\n",
       "      <td>30</td>\n",
       "      <td>1</td>\n",
       "      <td>2</td>\n",
       "      <td>1</td>\n",
       "      <td>2</td>\n",
       "      <td>0</td>\n",
       "      <td>0</td>\n",
       "      <td>0</td>\n",
       "      <td>1</td>\n",
       "    </tr>\n",
       "  </tbody>\n",
       "</table>\n",
       "</div>"
      ],
      "text/plain": [
       "         Date  Transportation Expense  Distance to Work  Age  \\\n",
       "0  07/07/2015                     289                36   33   \n",
       "1  14/07/2015                     118                13   50   \n",
       "2  15/07/2015                     179                51   38   \n",
       "3  16/07/2015                     279                 5   39   \n",
       "4  23/07/2015                     289                36   33   \n",
       "\n",
       "   Daily Work Load Average  Body Mass Index  Education  Children  Pets  \\\n",
       "0                  239.554               30          1         2     1   \n",
       "1                  239.554               31          1         1     0   \n",
       "2                  239.554               31          1         0     0   \n",
       "3                  239.554               24          1         2     0   \n",
       "4                  239.554               30          1         2     1   \n",
       "\n",
       "   Absenteeism Time in Hours  Reason_1  Reason_2  Reason_3  Reason_4  \n",
       "0                          4         0         0         0         1  \n",
       "1                          0         0         0         0         0  \n",
       "2                          2         0         0         0         1  \n",
       "3                          4         1         0         0         0  \n",
       "4                          2         0         0         0         1  "
      ]
     },
     "execution_count": 187,
     "metadata": {},
     "output_type": "execute_result"
    }
   ],
   "source": [
    "df.head()"
   ]
  },
  {
   "cell_type": "code",
   "execution_count": 188,
   "id": "a8178906-0d22-4a10-ba3f-254718fa6110",
   "metadata": {},
   "outputs": [],
   "source": [
    "column_names_reordered = ['Reason_1', 'Reason_2', 'Reason_3', 'Reason_4','Date', 'Transportation Expense', 'Distance to Work', 'Age', 'Daily Work Load Average',\n",
    "                'Body Mass Index', 'Education', 'Children', 'Pets', 'Absenteeism Time in Hours']"
   ]
  },
  {
   "cell_type": "code",
   "execution_count": 189,
   "id": "27bffcb9-f7f0-4449-91b6-1dbaab1ad9e9",
   "metadata": {},
   "outputs": [],
   "source": [
    "df = df[column_names_reordered]"
   ]
  },
  {
   "cell_type": "code",
   "execution_count": 190,
   "id": "1f1fe5ff-63f7-48d4-92dc-19cf464e865f",
   "metadata": {},
   "outputs": [
    {
     "data": {
      "text/html": [
       "<div>\n",
       "<style scoped>\n",
       "    .dataframe tbody tr th:only-of-type {\n",
       "        vertical-align: middle;\n",
       "    }\n",
       "\n",
       "    .dataframe tbody tr th {\n",
       "        vertical-align: top;\n",
       "    }\n",
       "\n",
       "    .dataframe thead th {\n",
       "        text-align: right;\n",
       "    }\n",
       "</style>\n",
       "<table border=\"1\" class=\"dataframe\">\n",
       "  <thead>\n",
       "    <tr style=\"text-align: right;\">\n",
       "      <th></th>\n",
       "      <th>Reason_1</th>\n",
       "      <th>Reason_2</th>\n",
       "      <th>Reason_3</th>\n",
       "      <th>Reason_4</th>\n",
       "      <th>Date</th>\n",
       "      <th>Transportation Expense</th>\n",
       "      <th>Distance to Work</th>\n",
       "      <th>Age</th>\n",
       "      <th>Daily Work Load Average</th>\n",
       "      <th>Body Mass Index</th>\n",
       "      <th>Education</th>\n",
       "      <th>Children</th>\n",
       "      <th>Pets</th>\n",
       "      <th>Absenteeism Time in Hours</th>\n",
       "    </tr>\n",
       "  </thead>\n",
       "  <tbody>\n",
       "    <tr>\n",
       "      <th>0</th>\n",
       "      <td>0</td>\n",
       "      <td>0</td>\n",
       "      <td>0</td>\n",
       "      <td>1</td>\n",
       "      <td>07/07/2015</td>\n",
       "      <td>289</td>\n",
       "      <td>36</td>\n",
       "      <td>33</td>\n",
       "      <td>239.554</td>\n",
       "      <td>30</td>\n",
       "      <td>1</td>\n",
       "      <td>2</td>\n",
       "      <td>1</td>\n",
       "      <td>4</td>\n",
       "    </tr>\n",
       "    <tr>\n",
       "      <th>1</th>\n",
       "      <td>0</td>\n",
       "      <td>0</td>\n",
       "      <td>0</td>\n",
       "      <td>0</td>\n",
       "      <td>14/07/2015</td>\n",
       "      <td>118</td>\n",
       "      <td>13</td>\n",
       "      <td>50</td>\n",
       "      <td>239.554</td>\n",
       "      <td>31</td>\n",
       "      <td>1</td>\n",
       "      <td>1</td>\n",
       "      <td>0</td>\n",
       "      <td>0</td>\n",
       "    </tr>\n",
       "    <tr>\n",
       "      <th>2</th>\n",
       "      <td>0</td>\n",
       "      <td>0</td>\n",
       "      <td>0</td>\n",
       "      <td>1</td>\n",
       "      <td>15/07/2015</td>\n",
       "      <td>179</td>\n",
       "      <td>51</td>\n",
       "      <td>38</td>\n",
       "      <td>239.554</td>\n",
       "      <td>31</td>\n",
       "      <td>1</td>\n",
       "      <td>0</td>\n",
       "      <td>0</td>\n",
       "      <td>2</td>\n",
       "    </tr>\n",
       "    <tr>\n",
       "      <th>3</th>\n",
       "      <td>1</td>\n",
       "      <td>0</td>\n",
       "      <td>0</td>\n",
       "      <td>0</td>\n",
       "      <td>16/07/2015</td>\n",
       "      <td>279</td>\n",
       "      <td>5</td>\n",
       "      <td>39</td>\n",
       "      <td>239.554</td>\n",
       "      <td>24</td>\n",
       "      <td>1</td>\n",
       "      <td>2</td>\n",
       "      <td>0</td>\n",
       "      <td>4</td>\n",
       "    </tr>\n",
       "    <tr>\n",
       "      <th>4</th>\n",
       "      <td>0</td>\n",
       "      <td>0</td>\n",
       "      <td>0</td>\n",
       "      <td>1</td>\n",
       "      <td>23/07/2015</td>\n",
       "      <td>289</td>\n",
       "      <td>36</td>\n",
       "      <td>33</td>\n",
       "      <td>239.554</td>\n",
       "      <td>30</td>\n",
       "      <td>1</td>\n",
       "      <td>2</td>\n",
       "      <td>1</td>\n",
       "      <td>2</td>\n",
       "    </tr>\n",
       "  </tbody>\n",
       "</table>\n",
       "</div>"
      ],
      "text/plain": [
       "   Reason_1  Reason_2  Reason_3  Reason_4        Date  Transportation Expense  \\\n",
       "0         0         0         0         1  07/07/2015                     289   \n",
       "1         0         0         0         0  14/07/2015                     118   \n",
       "2         0         0         0         1  15/07/2015                     179   \n",
       "3         1         0         0         0  16/07/2015                     279   \n",
       "4         0         0         0         1  23/07/2015                     289   \n",
       "\n",
       "   Distance to Work  Age  Daily Work Load Average  Body Mass Index  Education  \\\n",
       "0                36   33                  239.554               30          1   \n",
       "1                13   50                  239.554               31          1   \n",
       "2                51   38                  239.554               31          1   \n",
       "3                 5   39                  239.554               24          1   \n",
       "4                36   33                  239.554               30          1   \n",
       "\n",
       "   Children  Pets  Absenteeism Time in Hours  \n",
       "0         2     1                          4  \n",
       "1         1     0                          0  \n",
       "2         0     0                          2  \n",
       "3         2     0                          4  \n",
       "4         2     1                          2  "
      ]
     },
     "execution_count": 190,
     "metadata": {},
     "output_type": "execute_result"
    }
   ],
   "source": [
    "df.head()"
   ]
  },
  {
   "cell_type": "code",
   "execution_count": 191,
   "id": "78561479-a38f-44f7-9b80-f6757eefeb99",
   "metadata": {},
   "outputs": [],
   "source": [
    "df_reason_mod = df.copy()"
   ]
  },
  {
   "cell_type": "markdown",
   "id": "f6fd357e-ca8c-4004-ac78-d9c8308f4eac",
   "metadata": {},
   "source": [
    "**Date column transformation:**"
   ]
  },
  {
   "cell_type": "code",
   "execution_count": 193,
   "id": "7f05061f-48cb-4a47-8eb8-ba72e92c955a",
   "metadata": {},
   "outputs": [
    {
     "data": {
      "text/plain": [
       "str"
      ]
     },
     "execution_count": 193,
     "metadata": {},
     "output_type": "execute_result"
    }
   ],
   "source": [
    "type(df_reason_mod['Date'][0])"
   ]
  },
  {
   "cell_type": "code",
   "execution_count": 194,
   "id": "1797b378-1f05-49f6-9f3b-42d7539b016c",
   "metadata": {},
   "outputs": [],
   "source": [
    "df_reason_mod['Date'] = pd.to_datetime(df_reason_mod['Date'], format='%d/%m/%Y')"
   ]
  },
  {
   "cell_type": "code",
   "execution_count": 195,
   "id": "ae0343c7-7b71-4960-9687-e9876fe74c77",
   "metadata": {},
   "outputs": [
    {
     "data": {
      "text/plain": [
       "0   2015-07-07\n",
       "1   2015-07-14\n",
       "2   2015-07-15\n",
       "3   2015-07-16\n",
       "4   2015-07-23\n",
       "Name: Date, dtype: datetime64[ns]"
      ]
     },
     "execution_count": 195,
     "metadata": {},
     "output_type": "execute_result"
    }
   ],
   "source": [
    "df_reason_mod['Date'].head()"
   ]
  },
  {
   "cell_type": "code",
   "execution_count": 196,
   "id": "1752626d-1414-4083-9d13-907ab3b2a48c",
   "metadata": {},
   "outputs": [
    {
     "data": {
      "text/plain": [
       "Timestamp('2015-07-07 00:00:00')"
      ]
     },
     "execution_count": 196,
     "metadata": {},
     "output_type": "execute_result"
    }
   ],
   "source": [
    "df_reason_mod['Date'][0]"
   ]
  },
  {
   "cell_type": "code",
   "execution_count": 197,
   "id": "2c4e15bc-28ab-40e6-8349-d1b9f67f75a3",
   "metadata": {},
   "outputs": [],
   "source": [
    "list_months = []"
   ]
  },
  {
   "cell_type": "code",
   "execution_count": 198,
   "id": "9e1fe067-a3ef-4b8b-b87a-c49be22a72e5",
   "metadata": {},
   "outputs": [
    {
     "data": {
      "text/plain": [
       "(700, 14)"
      ]
     },
     "execution_count": 198,
     "metadata": {},
     "output_type": "execute_result"
    }
   ],
   "source": [
    "df_reason_mod.shape"
   ]
  },
  {
   "cell_type": "code",
   "execution_count": 199,
   "id": "304d3514-d7a3-482f-bd62-a71b2d3caf9e",
   "metadata": {},
   "outputs": [],
   "source": [
    "for i in range(df_reason_mod.shape[0]):\n",
    "    list_months.append(df_reason_mod['Date'][i].month)"
   ]
  },
  {
   "cell_type": "code",
   "execution_count": 200,
   "id": "87d07970-a2a0-409a-9a3e-da76bef7151f",
   "metadata": {},
   "outputs": [
    {
     "data": {
      "text/plain": [
       "700"
      ]
     },
     "execution_count": 200,
     "metadata": {},
     "output_type": "execute_result"
    }
   ],
   "source": [
    "#list_months\n",
    "len(list_months)"
   ]
  },
  {
   "cell_type": "code",
   "execution_count": 201,
   "id": "558cd4d4-c7fe-48d6-b012-b88cc6cce388",
   "metadata": {},
   "outputs": [],
   "source": [
    "df_reason_mod['Month Value'] = list_months"
   ]
  },
  {
   "cell_type": "code",
   "execution_count": 202,
   "id": "d8ce6366-6ae7-4ab3-b4df-f872e1fad393",
   "metadata": {},
   "outputs": [],
   "source": [
    "#df_reason_mod.head()"
   ]
  },
  {
   "cell_type": "code",
   "execution_count": 203,
   "id": "574f1709-e696-4153-8bd0-6ae8e96f2d47",
   "metadata": {},
   "outputs": [
    {
     "data": {
      "text/plain": [
       "3"
      ]
     },
     "execution_count": 203,
     "metadata": {},
     "output_type": "execute_result"
    }
   ],
   "source": [
    "df_reason_mod['Date'][699].weekday()"
   ]
  },
  {
   "cell_type": "code",
   "execution_count": 204,
   "id": "3c71776f-0737-485b-aa84-8d4ab9c8cb06",
   "metadata": {},
   "outputs": [],
   "source": [
    "def date_to_weekday(data_value):\n",
    "    return data_value.weekday()"
   ]
  },
  {
   "cell_type": "code",
   "execution_count": 205,
   "id": "fbb41604-4693-418a-beea-695dcb26ab4e",
   "metadata": {},
   "outputs": [],
   "source": [
    "df_reason_mod['Day of the Week'] = df_reason_mod['Date'].apply(date_to_weekday)"
   ]
  },
  {
   "cell_type": "code",
   "execution_count": 206,
   "id": "7233c873-f55f-4ee4-af88-02ec4c7ed2a7",
   "metadata": {},
   "outputs": [],
   "source": [
    "#df_reason_mod.head()"
   ]
  },
  {
   "cell_type": "code",
   "execution_count": 207,
   "id": "1f0d0286-4406-4670-9f50-365e7f18625b",
   "metadata": {},
   "outputs": [],
   "source": [
    "df_reason_mod = df_reason_mod.drop(['Date'], axis=1)\n",
    "#df_reason_mod.head()"
   ]
  },
  {
   "cell_type": "code",
   "execution_count": 208,
   "id": "11719094-2a34-4513-b39e-61918bdb8489",
   "metadata": {},
   "outputs": [
    {
     "data": {
      "text/plain": [
       "array(['Reason_1', 'Reason_2', 'Reason_3', 'Reason_4',\n",
       "       'Transportation Expense', 'Distance to Work', 'Age',\n",
       "       'Daily Work Load Average', 'Body Mass Index', 'Education',\n",
       "       'Children', 'Pets', 'Absenteeism Time in Hours', 'Month Value',\n",
       "       'Day of the Week'], dtype=object)"
      ]
     },
     "execution_count": 208,
     "metadata": {},
     "output_type": "execute_result"
    }
   ],
   "source": [
    "df_reason_mod.columns.values"
   ]
  },
  {
   "cell_type": "code",
   "execution_count": 209,
   "id": "035053e4-7264-48ec-b5d6-2dfbc800eac2",
   "metadata": {},
   "outputs": [],
   "source": [
    "column_names_upd = ['Reason_1', 'Reason_2', 'Reason_3', 'Reason_4',\n",
    "                    'Month Value','Day of the Week', 'Transportation Expense',\n",
    "                    'Distance to Work', 'Age', 'Daily Work Load Average', 'Body Mass Index',\n",
    "                    'Education', 'Children', 'Pets', 'Absenteeism Time in Hours']"
   ]
  },
  {
   "cell_type": "code",
   "execution_count": 210,
   "id": "9af6124b-7bb8-40ba-8508-d91f0cc91f55",
   "metadata": {},
   "outputs": [],
   "source": [
    "df_reason_mod = df_reason_mod[column_names_upd]\n",
    "#df_reason_mod.head()"
   ]
  },
  {
   "cell_type": "code",
   "execution_count": 211,
   "id": "2ec90db6-8832-4860-a113-bc2fc2698642",
   "metadata": {},
   "outputs": [],
   "source": [
    "df_reason_date_mod = df_reason_mod.copy()"
   ]
  },
  {
   "cell_type": "code",
   "execution_count": 212,
   "id": "7fd3a848-400e-47b4-89c6-da86394df446",
   "metadata": {},
   "outputs": [
    {
     "data": {
      "text/plain": [
       "numpy.int64"
      ]
     },
     "execution_count": 212,
     "metadata": {},
     "output_type": "execute_result"
    }
   ],
   "source": [
    "type(df_reason_date_mod['Transportation Expense'][0])"
   ]
  },
  {
   "cell_type": "code",
   "execution_count": 213,
   "id": "b3aa1669-30bd-4d50-9632-460f5af21964",
   "metadata": {},
   "outputs": [
    {
     "data": {
      "text/plain": [
       "numpy.int64"
      ]
     },
     "execution_count": 213,
     "metadata": {},
     "output_type": "execute_result"
    }
   ],
   "source": [
    "type(df_reason_date_mod['Distance to Work'][0])"
   ]
  },
  {
   "cell_type": "code",
   "execution_count": 214,
   "id": "5cad3164-a6d7-4682-a916-c4b00bc30653",
   "metadata": {},
   "outputs": [
    {
     "data": {
      "text/plain": [
       "numpy.int64"
      ]
     },
     "execution_count": 214,
     "metadata": {},
     "output_type": "execute_result"
    }
   ],
   "source": [
    "type(df_reason_date_mod['Age'][0])"
   ]
  },
  {
   "cell_type": "code",
   "execution_count": 215,
   "id": "f4cc99c1-e913-47d4-b2d9-682f1066003b",
   "metadata": {},
   "outputs": [
    {
     "data": {
      "text/plain": [
       "numpy.float64"
      ]
     },
     "execution_count": 215,
     "metadata": {},
     "output_type": "execute_result"
    }
   ],
   "source": [
    "type(df_reason_date_mod['Daily Work Load Average'][0])"
   ]
  },
  {
   "cell_type": "code",
   "execution_count": 216,
   "id": "5d854544-2042-4495-8fef-18afe1268c32",
   "metadata": {},
   "outputs": [
    {
     "data": {
      "text/plain": [
       "numpy.int64"
      ]
     },
     "execution_count": 216,
     "metadata": {},
     "output_type": "execute_result"
    }
   ],
   "source": [
    "type(df_reason_date_mod['Body Mass Index'][0])"
   ]
  },
  {
   "cell_type": "markdown",
   "id": "922a93c0-154b-4097-9f3b-204bb919fc39",
   "metadata": {},
   "source": [
    "**Remaining columns: (Education, Children, Pets)**"
   ]
  },
  {
   "cell_type": "code",
   "execution_count": 218,
   "id": "aac3fd31-e163-4737-b7ca-69dbbea98ec1",
   "metadata": {},
   "outputs": [
    {
     "data": {
      "text/plain": [
       "array([1, 3, 2, 4], dtype=int64)"
      ]
     },
     "execution_count": 218,
     "metadata": {},
     "output_type": "execute_result"
    }
   ],
   "source": [
    "df_reason_date_mod['Education'].unique()"
   ]
  },
  {
   "cell_type": "code",
   "execution_count": 219,
   "id": "840bd0a9-fe7a-449f-993b-b6ac37ce67c6",
   "metadata": {},
   "outputs": [
    {
     "data": {
      "text/plain": [
       "Education\n",
       "1    583\n",
       "3     73\n",
       "2     40\n",
       "4      4\n",
       "Name: count, dtype: int64"
      ]
     },
     "execution_count": 219,
     "metadata": {},
     "output_type": "execute_result"
    }
   ],
   "source": [
    "df_reason_date_mod['Education'].value_counts()"
   ]
  },
  {
   "cell_type": "code",
   "execution_count": 220,
   "id": "fee8dba3-7934-4d04-a079-a25a60281129",
   "metadata": {},
   "outputs": [],
   "source": [
    "df_reason_date_mod['Education'] = df_reason_date_mod['Education'].map({1:0, 2:1, 3:1, 4:1})"
   ]
  },
  {
   "cell_type": "code",
   "execution_count": 221,
   "id": "09a06d18-7a4e-425f-9856-2cb581e02fef",
   "metadata": {},
   "outputs": [
    {
     "data": {
      "text/plain": [
       "Education\n",
       "0    583\n",
       "1    117\n",
       "Name: count, dtype: int64"
      ]
     },
     "execution_count": 221,
     "metadata": {},
     "output_type": "execute_result"
    }
   ],
   "source": [
    "df_reason_date_mod['Education'].value_counts()"
   ]
  },
  {
   "cell_type": "code",
   "execution_count": 293,
   "id": "11d33a99-a29e-4b51-93b1-a8b4424501f2",
   "metadata": {},
   "outputs": [
    {
     "data": {
      "text/html": [
       "<div>\n",
       "<style scoped>\n",
       "    .dataframe tbody tr th:only-of-type {\n",
       "        vertical-align: middle;\n",
       "    }\n",
       "\n",
       "    .dataframe tbody tr th {\n",
       "        vertical-align: top;\n",
       "    }\n",
       "\n",
       "    .dataframe thead th {\n",
       "        text-align: right;\n",
       "    }\n",
       "</style>\n",
       "<table border=\"1\" class=\"dataframe\">\n",
       "  <thead>\n",
       "    <tr style=\"text-align: right;\">\n",
       "      <th></th>\n",
       "      <th>Reason_1</th>\n",
       "      <th>Reason_2</th>\n",
       "      <th>Reason_3</th>\n",
       "      <th>Reason_4</th>\n",
       "      <th>Month Value</th>\n",
       "      <th>Day of the Week</th>\n",
       "      <th>Transportation Expense</th>\n",
       "      <th>Distance to Work</th>\n",
       "      <th>Age</th>\n",
       "      <th>Daily Work Load Average</th>\n",
       "      <th>Body Mass Index</th>\n",
       "      <th>Education</th>\n",
       "      <th>Children</th>\n",
       "      <th>Pets</th>\n",
       "      <th>Absenteeism Time in Hours</th>\n",
       "    </tr>\n",
       "  </thead>\n",
       "  <tbody>\n",
       "    <tr>\n",
       "      <th>0</th>\n",
       "      <td>0</td>\n",
       "      <td>0</td>\n",
       "      <td>0</td>\n",
       "      <td>1</td>\n",
       "      <td>7</td>\n",
       "      <td>1</td>\n",
       "      <td>289</td>\n",
       "      <td>36</td>\n",
       "      <td>33</td>\n",
       "      <td>239.554</td>\n",
       "      <td>30</td>\n",
       "      <td>0</td>\n",
       "      <td>2</td>\n",
       "      <td>1</td>\n",
       "      <td>4</td>\n",
       "    </tr>\n",
       "    <tr>\n",
       "      <th>1</th>\n",
       "      <td>0</td>\n",
       "      <td>0</td>\n",
       "      <td>0</td>\n",
       "      <td>0</td>\n",
       "      <td>7</td>\n",
       "      <td>1</td>\n",
       "      <td>118</td>\n",
       "      <td>13</td>\n",
       "      <td>50</td>\n",
       "      <td>239.554</td>\n",
       "      <td>31</td>\n",
       "      <td>0</td>\n",
       "      <td>1</td>\n",
       "      <td>0</td>\n",
       "      <td>0</td>\n",
       "    </tr>\n",
       "    <tr>\n",
       "      <th>2</th>\n",
       "      <td>0</td>\n",
       "      <td>0</td>\n",
       "      <td>0</td>\n",
       "      <td>1</td>\n",
       "      <td>7</td>\n",
       "      <td>2</td>\n",
       "      <td>179</td>\n",
       "      <td>51</td>\n",
       "      <td>38</td>\n",
       "      <td>239.554</td>\n",
       "      <td>31</td>\n",
       "      <td>0</td>\n",
       "      <td>0</td>\n",
       "      <td>0</td>\n",
       "      <td>2</td>\n",
       "    </tr>\n",
       "    <tr>\n",
       "      <th>3</th>\n",
       "      <td>1</td>\n",
       "      <td>0</td>\n",
       "      <td>0</td>\n",
       "      <td>0</td>\n",
       "      <td>7</td>\n",
       "      <td>3</td>\n",
       "      <td>279</td>\n",
       "      <td>5</td>\n",
       "      <td>39</td>\n",
       "      <td>239.554</td>\n",
       "      <td>24</td>\n",
       "      <td>0</td>\n",
       "      <td>2</td>\n",
       "      <td>0</td>\n",
       "      <td>4</td>\n",
       "    </tr>\n",
       "    <tr>\n",
       "      <th>4</th>\n",
       "      <td>0</td>\n",
       "      <td>0</td>\n",
       "      <td>0</td>\n",
       "      <td>1</td>\n",
       "      <td>7</td>\n",
       "      <td>3</td>\n",
       "      <td>289</td>\n",
       "      <td>36</td>\n",
       "      <td>33</td>\n",
       "      <td>239.554</td>\n",
       "      <td>30</td>\n",
       "      <td>0</td>\n",
       "      <td>2</td>\n",
       "      <td>1</td>\n",
       "      <td>2</td>\n",
       "    </tr>\n",
       "    <tr>\n",
       "      <th>5</th>\n",
       "      <td>0</td>\n",
       "      <td>0</td>\n",
       "      <td>0</td>\n",
       "      <td>1</td>\n",
       "      <td>7</td>\n",
       "      <td>4</td>\n",
       "      <td>179</td>\n",
       "      <td>51</td>\n",
       "      <td>38</td>\n",
       "      <td>239.554</td>\n",
       "      <td>31</td>\n",
       "      <td>0</td>\n",
       "      <td>0</td>\n",
       "      <td>0</td>\n",
       "      <td>2</td>\n",
       "    </tr>\n",
       "    <tr>\n",
       "      <th>6</th>\n",
       "      <td>0</td>\n",
       "      <td>0</td>\n",
       "      <td>0</td>\n",
       "      <td>1</td>\n",
       "      <td>7</td>\n",
       "      <td>4</td>\n",
       "      <td>361</td>\n",
       "      <td>52</td>\n",
       "      <td>28</td>\n",
       "      <td>239.554</td>\n",
       "      <td>27</td>\n",
       "      <td>0</td>\n",
       "      <td>1</td>\n",
       "      <td>4</td>\n",
       "      <td>8</td>\n",
       "    </tr>\n",
       "    <tr>\n",
       "      <th>7</th>\n",
       "      <td>0</td>\n",
       "      <td>0</td>\n",
       "      <td>0</td>\n",
       "      <td>1</td>\n",
       "      <td>7</td>\n",
       "      <td>4</td>\n",
       "      <td>260</td>\n",
       "      <td>50</td>\n",
       "      <td>36</td>\n",
       "      <td>239.554</td>\n",
       "      <td>23</td>\n",
       "      <td>0</td>\n",
       "      <td>4</td>\n",
       "      <td>0</td>\n",
       "      <td>4</td>\n",
       "    </tr>\n",
       "    <tr>\n",
       "      <th>8</th>\n",
       "      <td>0</td>\n",
       "      <td>0</td>\n",
       "      <td>1</td>\n",
       "      <td>0</td>\n",
       "      <td>7</td>\n",
       "      <td>0</td>\n",
       "      <td>155</td>\n",
       "      <td>12</td>\n",
       "      <td>34</td>\n",
       "      <td>239.554</td>\n",
       "      <td>25</td>\n",
       "      <td>0</td>\n",
       "      <td>2</td>\n",
       "      <td>0</td>\n",
       "      <td>40</td>\n",
       "    </tr>\n",
       "    <tr>\n",
       "      <th>9</th>\n",
       "      <td>0</td>\n",
       "      <td>0</td>\n",
       "      <td>0</td>\n",
       "      <td>1</td>\n",
       "      <td>7</td>\n",
       "      <td>0</td>\n",
       "      <td>235</td>\n",
       "      <td>11</td>\n",
       "      <td>37</td>\n",
       "      <td>239.554</td>\n",
       "      <td>29</td>\n",
       "      <td>1</td>\n",
       "      <td>1</td>\n",
       "      <td>1</td>\n",
       "      <td>8</td>\n",
       "    </tr>\n",
       "  </tbody>\n",
       "</table>\n",
       "</div>"
      ],
      "text/plain": [
       "   Reason_1  Reason_2  Reason_3  Reason_4  Month Value  Day of the Week  \\\n",
       "0         0         0         0         1            7                1   \n",
       "1         0         0         0         0            7                1   \n",
       "2         0         0         0         1            7                2   \n",
       "3         1         0         0         0            7                3   \n",
       "4         0         0         0         1            7                3   \n",
       "5         0         0         0         1            7                4   \n",
       "6         0         0         0         1            7                4   \n",
       "7         0         0         0         1            7                4   \n",
       "8         0         0         1         0            7                0   \n",
       "9         0         0         0         1            7                0   \n",
       "\n",
       "   Transportation Expense  Distance to Work  Age  Daily Work Load Average  \\\n",
       "0                     289                36   33                  239.554   \n",
       "1                     118                13   50                  239.554   \n",
       "2                     179                51   38                  239.554   \n",
       "3                     279                 5   39                  239.554   \n",
       "4                     289                36   33                  239.554   \n",
       "5                     179                51   38                  239.554   \n",
       "6                     361                52   28                  239.554   \n",
       "7                     260                50   36                  239.554   \n",
       "8                     155                12   34                  239.554   \n",
       "9                     235                11   37                  239.554   \n",
       "\n",
       "   Body Mass Index  Education  Children  Pets  Absenteeism Time in Hours  \n",
       "0               30          0         2     1                          4  \n",
       "1               31          0         1     0                          0  \n",
       "2               31          0         0     0                          2  \n",
       "3               24          0         2     0                          4  \n",
       "4               30          0         2     1                          2  \n",
       "5               31          0         0     0                          2  \n",
       "6               27          0         1     4                          8  \n",
       "7               23          0         4     0                          4  \n",
       "8               25          0         2     0                         40  \n",
       "9               29          1         1     1                          8  "
      ]
     },
     "execution_count": 293,
     "metadata": {},
     "output_type": "execute_result"
    }
   ],
   "source": [
    "df_preprocessed = df_reason_date_mod.copy()\n",
    "df_preprocessed.head(10)"
   ]
  },
  {
   "cell_type": "code",
   "execution_count": 295,
   "id": "c21c36df-8403-465c-8089-10d72898ce7d",
   "metadata": {},
   "outputs": [],
   "source": [
    "#df_preprocessed.isna().sum()"
   ]
  },
  {
   "cell_type": "code",
   "execution_count": 297,
   "id": "8509f287-36d6-4547-a6c6-79bf54cde5b3",
   "metadata": {},
   "outputs": [],
   "source": [
    "df_preprocessed.to_csv('AbsenteeismPreprocessed.csv', sep=',', index=False)"
   ]
  },
  {
   "cell_type": "code",
   "execution_count": null,
   "id": "a3589136-a3f2-40e8-9fa9-5aa15e7c0f95",
   "metadata": {},
   "outputs": [],
   "source": []
  }
 ],
 "metadata": {
  "kernelspec": {
   "display_name": "Python [conda env:base] *",
   "language": "python",
   "name": "conda-base-py"
  },
  "language_info": {
   "codemirror_mode": {
    "name": "ipython",
    "version": 3
   },
   "file_extension": ".py",
   "mimetype": "text/x-python",
   "name": "python",
   "nbconvert_exporter": "python",
   "pygments_lexer": "ipython3",
   "version": "3.12.7"
  }
 },
 "nbformat": 4,
 "nbformat_minor": 5
}
